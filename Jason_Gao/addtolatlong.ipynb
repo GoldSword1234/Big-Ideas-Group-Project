{
 "cells": [
  {
   "cell_type": "code",
   "execution_count": null,
   "id": "d190996e",
   "metadata": {},
   "outputs": [],
   "source": [
    "#https://medium.com/@hazallgultekin/convert-address-to-latitude-longitude-using-python-21844da3d032\n",
    "#https://consoleflare.com/blog/python-codes-to-access-latitude-longitude/\n",
    "from geopy.geocoders import Nominatim\n",
    "from geopy.exc import GeocoderTimedOut, GeocoderServiceError\n",
    "\n",
    "def geocode_address(address: str, user_agent: str = \"my_geocoder_app\"):\n",
    "    \"\"\"\n",
    "    Geocode a full address into (latitude, longitude) using Nominatim.\n",
    "    Returns a tuple (lat, lon) or raises an exception if not found.\n",
    "    \"\"\"\n",
    "    geolocator = Nominatim(user_agent=user_agent, timeout=10)\n",
    "    try:\n",
    "        location = geolocator.geocode(address)\n",
    "    except (GeocoderTimedOut, GeocoderServiceError) as e:\n",
    "        raise RuntimeError(f\"Geocoding error: {e}\")\n",
    "    if location is None:\n",
    "        raise ValueError(f\"Address not found: {address}\")\n",
    "    return location.latitude, location.longitude\n",
    "\n",
    "if __name__ == \"__main__\":\n",
    "    addr = \"\"\n",
    "    try:\n",
    "        lat, lon = geocode_address(addr)\n",
    "        print(f\"Address: {addr}\\nLatitude: {lat:.6f}, Longitude: {lon:.6f}\")\n",
    "    except Exception as e:\n",
    "        print(e)\n"
   ]
  }
 ],
 "metadata": {
  "language_info": {
   "name": "python"
  }
 },
 "nbformat": 4,
 "nbformat_minor": 5
}
